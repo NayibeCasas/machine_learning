{
 "cells": [
  {
   "cell_type": "code",
   "execution_count": 1,
   "metadata": {},
   "outputs": [],
   "source": [
    "import numpy as np\n",
    "import matplotlib.pyplot as plt\n",
    "from matplotlib import colors\n",
    "import pandas as pd\n",
    "import seaborn as sb\n",
    "%matplotlib inline\n",
    "plt.rcParams['figure.figsize']=(10,9)\n",
    "plt.style.use('ggplot')\n",
    "from sklearn.model_selection import train_test_split\n",
    "from sklearn.metrics import classification_report\n",
    "from sklearn.metrics import confusion_matrix\n",
    "from sklearn.naive_bayes import GaussianNB\n",
    "from sklearn.feature_selection import SelectKBest"
   ]
  },
  {
   "cell_type": "code",
   "execution_count": 2,
   "metadata": {},
   "outputs": [
    {
     "data": {
      "text/html": [
       "<div>\n",
       "<style scoped>\n",
       "    .dataframe tbody tr th:only-of-type {\n",
       "        vertical-align: middle;\n",
       "    }\n",
       "\n",
       "    .dataframe tbody tr th {\n",
       "        vertical-align: top;\n",
       "    }\n",
       "\n",
       "    .dataframe thead th {\n",
       "        text-align: right;\n",
       "    }\n",
       "</style>\n",
       "<table border=\"1\" class=\"dataframe\">\n",
       "  <thead>\n",
       "    <tr style=\"text-align: right;\">\n",
       "      <th></th>\n",
       "      <th>BrandName</th>\n",
       "      <th>Type</th>\n",
       "      <th>Size</th>\n",
       "      <th>BrandSize</th>\n",
       "      <th>Chest(cm)</th>\n",
       "      <th>FrontLength(cm)</th>\n",
       "      <th>AcrossShoulder(cm)</th>\n",
       "    </tr>\n",
       "  </thead>\n",
       "  <tbody>\n",
       "    <tr>\n",
       "      <th>0</th>\n",
       "      <td>Roadster</td>\n",
       "      <td>Cotton</td>\n",
       "      <td>38</td>\n",
       "      <td>S</td>\n",
       "      <td>100</td>\n",
       "      <td>74</td>\n",
       "      <td>43</td>\n",
       "    </tr>\n",
       "    <tr>\n",
       "      <th>1</th>\n",
       "      <td>Roadster</td>\n",
       "      <td>Cotton</td>\n",
       "      <td>40</td>\n",
       "      <td>M</td>\n",
       "      <td>107</td>\n",
       "      <td>75</td>\n",
       "      <td>45</td>\n",
       "    </tr>\n",
       "    <tr>\n",
       "      <th>2</th>\n",
       "      <td>Roadster</td>\n",
       "      <td>Cotton</td>\n",
       "      <td>42</td>\n",
       "      <td>L</td>\n",
       "      <td>115</td>\n",
       "      <td>75</td>\n",
       "      <td>45</td>\n",
       "    </tr>\n",
       "    <tr>\n",
       "      <th>3</th>\n",
       "      <td>Roadster</td>\n",
       "      <td>Cotton</td>\n",
       "      <td>44</td>\n",
       "      <td>XL</td>\n",
       "      <td>123</td>\n",
       "      <td>77</td>\n",
       "      <td>49</td>\n",
       "    </tr>\n",
       "    <tr>\n",
       "      <th>4</th>\n",
       "      <td>Roadster</td>\n",
       "      <td>Cotton</td>\n",
       "      <td>46</td>\n",
       "      <td>XXL</td>\n",
       "      <td>130</td>\n",
       "      <td>82</td>\n",
       "      <td>51</td>\n",
       "    </tr>\n",
       "    <tr>\n",
       "      <th>5</th>\n",
       "      <td>Roadster</td>\n",
       "      <td>Cotton</td>\n",
       "      <td>48</td>\n",
       "      <td>3XL</td>\n",
       "      <td>138</td>\n",
       "      <td>80</td>\n",
       "      <td>53</td>\n",
       "    </tr>\n",
       "    <tr>\n",
       "      <th>6</th>\n",
       "      <td>WROGN</td>\n",
       "      <td>Cotton</td>\n",
       "      <td>39</td>\n",
       "      <td>S</td>\n",
       "      <td>104</td>\n",
       "      <td>71</td>\n",
       "      <td>41</td>\n",
       "    </tr>\n",
       "    <tr>\n",
       "      <th>7</th>\n",
       "      <td>WROGN</td>\n",
       "      <td>Cotton</td>\n",
       "      <td>40</td>\n",
       "      <td>M</td>\n",
       "      <td>109</td>\n",
       "      <td>74</td>\n",
       "      <td>43</td>\n",
       "    </tr>\n",
       "    <tr>\n",
       "      <th>8</th>\n",
       "      <td>WROGN</td>\n",
       "      <td>Cotton</td>\n",
       "      <td>42</td>\n",
       "      <td>L</td>\n",
       "      <td>116</td>\n",
       "      <td>74</td>\n",
       "      <td>45</td>\n",
       "    </tr>\n",
       "    <tr>\n",
       "      <th>9</th>\n",
       "      <td>WROGN</td>\n",
       "      <td>Cotton</td>\n",
       "      <td>44</td>\n",
       "      <td>XL</td>\n",
       "      <td>122</td>\n",
       "      <td>78</td>\n",
       "      <td>47</td>\n",
       "    </tr>\n",
       "  </tbody>\n",
       "</table>\n",
       "</div>"
      ],
      "text/plain": [
       "  BrandName    Type  Size BrandSize  Chest(cm)  FrontLength(cm)  \\\n",
       "0  Roadster  Cotton    38         S        100               74   \n",
       "1  Roadster  Cotton    40         M        107               75   \n",
       "2  Roadster  Cotton    42         L        115               75   \n",
       "3  Roadster  Cotton    44        XL        123               77   \n",
       "4  Roadster  Cotton    46       XXL        130               82   \n",
       "5  Roadster  Cotton    48       3XL        138               80   \n",
       "6     WROGN  Cotton    39         S        104               71   \n",
       "7     WROGN  Cotton    40         M        109               74   \n",
       "8     WROGN  Cotton    42         L        116               74   \n",
       "9     WROGN  Cotton    44        XL        122               78   \n",
       "\n",
       "   AcrossShoulder(cm)  \n",
       "0                  43  \n",
       "1                  45  \n",
       "2                  45  \n",
       "3                  49  \n",
       "4                  51  \n",
       "5                  53  \n",
       "6                  41  \n",
       "7                  43  \n",
       "8                  45  \n",
       "9                  47  "
      ]
     },
     "execution_count": 2,
     "metadata": {},
     "output_type": "execute_result"
    }
   ],
   "source": [
    "dataframe = pd.read_csv(\"talla.csv\")\n",
    "dataframe.head(10)"
   ]
  },
  {
   "cell_type": "code",
   "execution_count": 5,
   "metadata": {},
   "outputs": [
    {
     "name": "stdout",
     "output_type": "stream",
     "text": [
      "BrandName             WildWest\n",
      "Type                  Polyster\n",
      "Size                        48\n",
      "BrandSize                  XXL\n",
      "Chest(cm)                  138\n",
      "FrontLength(cm)            102\n",
      "AcrossShoulder(cm)          56\n",
      "dtype: object\n"
     ]
    }
   ],
   "source": [
    "print(dataframe.max())"
   ]
  },
  {
   "cell_type": "code",
   "execution_count": 6,
   "metadata": {},
   "outputs": [
    {
     "name": "stdout",
     "output_type": "stream",
     "text": [
      "BrandName             AllenSolly\n",
      "Type                      Cotton\n",
      "Size                          36\n",
      "BrandSize                    3XL\n",
      "Chest(cm)                     91\n",
      "FrontLength(cm)               67\n",
      "AcrossShoulder(cm)            40\n",
      "dtype: object\n"
     ]
    }
   ],
   "source": [
    "print(dataframe.min())"
   ]
  },
  {
   "cell_type": "code",
   "execution_count": 7,
   "metadata": {},
   "outputs": [
    {
     "name": "stdout",
     "output_type": "stream",
     "text": [
      "BrandSize\n",
      "3XL     1\n",
      "EL      1\n",
      "FXL     1\n",
      "KL      1\n",
      "L      28\n",
      "M      28\n",
      "S      28\n",
      "TXL     6\n",
      "XL     27\n",
      "XS      6\n",
      "XXL    19\n",
      "dtype: int64\n"
     ]
    }
   ],
   "source": [
    "print(dataframe.groupby('BrandSize').size())"
   ]
  },
  {
   "cell_type": "code",
   "execution_count": 41,
   "metadata": {},
   "outputs": [
    {
     "name": "stdout",
     "output_type": "stream",
     "text": [
      "Size\n",
      "36     1\n",
      "38    22\n",
      "39    14\n",
      "40    28\n",
      "42    28\n",
      "44    27\n",
      "46    18\n",
      "48     8\n",
      "dtype: int64\n"
     ]
    }
   ],
   "source": [
    "print(dataframe.groupby('Size').size())"
   ]
  },
  {
   "cell_type": "code",
   "execution_count": 8,
   "metadata": {},
   "outputs": [
    {
     "name": "stdout",
     "output_type": "stream",
     "text": [
      "Index(['Chest(cm)', 'FrontLength(cm)', 'AcrossShoulder(cm)'], dtype='object')\n"
     ]
    }
   ],
   "source": [
    "from sklearn.feature_selection import chi2, f_regression\n",
    "\n",
    "X=dataframe.drop(['Size','BrandName','Type','BrandSize'], axis=1)\n",
    "y=dataframe['Size']\n",
    "best=SelectKBest(k=3)\n",
    "\n",
    "X_new = best.fit_transform(X, y)\n",
    "X_new.shape\n",
    "selected = best.get_support(indices=True)\n",
    "print(X.columns[selected])\n",
    "used_features=X.columns[selected]"
   ]
  },
  {
   "cell_type": "code",
   "execution_count": 9,
   "metadata": {},
   "outputs": [],
   "source": [
    "# Split dataset in training and test datasets\n",
    "X_train, X_test = train_test_split(dataframe, test_size=0.2, random_state=6)\n",
    "y_train =X_train[\"Size\"]\n",
    "y_test = X_test[\"Size\"]"
   ]
  },
  {
   "cell_type": "code",
   "execution_count": 10,
   "metadata": {},
   "outputs": [
    {
     "name": "stdout",
     "output_type": "stream",
     "text": [
      "Precisión en el set de Entrenamiento: 0.62\n",
      "Precisión en el set de Test: 0.57\n"
     ]
    },
    {
     "name": "stderr",
     "output_type": "stream",
     "text": [
      "C:\\Users\\Asus\\AppData\\Local\\Packages\\PythonSoftwareFoundation.Python.3.10_qbz5n2kfra8p0\\LocalCache\\local-packages\\Python310\\site-packages\\sklearn\\base.py:443: UserWarning: X has feature names, but GaussianNB was fitted without feature names\n",
      "  warnings.warn(\n",
      "C:\\Users\\Asus\\AppData\\Local\\Packages\\PythonSoftwareFoundation.Python.3.10_qbz5n2kfra8p0\\LocalCache\\local-packages\\Python310\\site-packages\\sklearn\\base.py:443: UserWarning: X has feature names, but GaussianNB was fitted without feature names\n",
      "  warnings.warn(\n",
      "C:\\Users\\Asus\\AppData\\Local\\Packages\\PythonSoftwareFoundation.Python.3.10_qbz5n2kfra8p0\\LocalCache\\local-packages\\Python310\\site-packages\\sklearn\\base.py:443: UserWarning: X has feature names, but GaussianNB was fitted without feature names\n",
      "  warnings.warn(\n"
     ]
    }
   ],
   "source": [
    "# Instantiate the classifier\n",
    "gnb = GaussianNB()\n",
    "# Train classifier\n",
    "gnb.fit(\n",
    "     X_train[used_features].values,\n",
    "     y_train\n",
    ")\n",
    "y_pred = gnb.predict(X_test[used_features])\n",
    "\n",
    "print('Precisión en el set de Entrenamiento: {:.2f}'\n",
    "     .format(gnb.score(X_train[used_features], y_train)))\n",
    "print('Precisión en el set de Test: {:.2f}'\n",
    "     .format(gnb.score(X_test[used_features], y_test)))"
   ]
  },
  {
   "cell_type": "code",
   "execution_count": 73,
   "metadata": {},
   "outputs": [
    {
     "name": "stdout",
     "output_type": "stream",
     "text": [
      "[46]\n"
     ]
    }
   ],
   "source": [
    "print(gnb.predict([[100,\t72,\t58] ]))\n",
    "prediccion=gnb.predict([[100,\t72,\t58] ])"
   ]
  },
  {
   "cell_type": "code",
   "execution_count": 56,
   "metadata": {},
   "outputs": [],
   "source": [
    "dataframeFinal=dataframe.drop(['Chest(cm)', 'FrontLength(cm)','AcrossShoulder(cm)'], axis=1)"
   ]
  },
  {
   "cell_type": "code",
   "execution_count": 77,
   "metadata": {},
   "outputs": [
    {
     "name": "stdout",
     "output_type": "stream",
     "text": [
      "XXL-EL-TXL\n"
     ]
    }
   ],
   "source": [
    "import dataframe_image as dfi\n",
    "resultante=dataframeFinal.loc[dataframeFinal['Size']==prediccion[0]]\n",
    "rango={36:'XS',38:'XS-S',39:'S-M',40:'M-L',42:'L-XL',44:'XL-XXL',46:'XXL-EL-TXL',48:'TXL-3XL-EL-KL'}\n",
    "print(rango[prediccion[0]])\n",
    "# d1=resultante.to_dict('list')\n",
    "dfi.export(resultante,'resulta.png')"
   ]
  },
  {
   "cell_type": "code",
   "execution_count": 59,
   "metadata": {},
   "outputs": [
    {
     "name": "stdout",
     "output_type": "stream",
     "text": [
      "    BrandName    Type  Size BrandSize\n",
      "106    JANISH  Cotton    36        XS\n"
     ]
    }
   ],
   "source": [
    "opciones=dataframeFinal.loc[dataframeFinal['Size']==36]\n",
    "print(opciones)"
   ]
  },
  {
   "cell_type": "code",
   "execution_count": 60,
   "metadata": {},
   "outputs": [
    {
     "name": "stdout",
     "output_type": "stream",
     "text": [
      "                 BrandName    Type  Size BrandSize\n",
      "0                 Roadster  Cotton    38         S\n",
      "16             DennisLingo  Cotton    38         S\n",
      "26             CampusSutra  Cotton    38         S\n",
      "35                INVICTUS  Cotton    38         S\n",
      "40            TheBearHouse  Cotton    38         S\n",
      "45   UnitedColorsofBenetto  Cotton    38         S\n",
      "51                  USPOLO  Cotton    38         S\n",
      "61                HERE&NOW  Cotton    38         S\n",
      "66            Mast&Harbour  Cotton    38         S\n",
      "70            PeterEngland  Cotton    38        XS\n",
      "77              ArrowSport  Cotton    38         S\n",
      "84                WildWest  Cotton    38         S\n",
      "90      VanHeusenDenimLabs  Cotton    38        XS\n",
      "96               BeneKleed  Cotton    38         S\n",
      "101                    R&B  Cotton    38         S\n",
      "107                 JANISH  Cotton    38         S\n",
      "111         VanHeusenSport  Cotton    38        XS\n",
      "115                  Ether  Cotton    38         S\n",
      "124                   IVOC  Cotton    38        XS\n",
      "129                  VMart  Cotton    38         S\n",
      "135                Harvard  Cotton    38         S\n",
      "139             AllenSolly  Cotton    38        XS\n"
     ]
    }
   ],
   "source": [
    "opciones2=dataframeFinal.loc[dataframeFinal['Size']==38]\n",
    "print(opciones2)"
   ]
  },
  {
   "cell_type": "code",
   "execution_count": 61,
   "metadata": {},
   "outputs": [
    {
     "name": "stdout",
     "output_type": "stream",
     "text": [
      "              BrandName      Type  Size BrandSize\n",
      "6                 WROGN    Cotton    39         S\n",
      "11                WROGN  Polyster    39         S\n",
      "21           Highlander    Cotton    39         S\n",
      "30      TheIndianGarage    Cotton    39         S\n",
      "36             INVICTUS    Cotton    39         M\n",
      "57           LOCOMOTIVE    Cotton    39         S\n",
      "71         PeterEngland    Cotton    39         S\n",
      "78           ArrowSport    Cotton    39         M\n",
      "91   VanHeusenDenimLabs    Cotton    39         S\n",
      "97            BeneKleed    Cotton    39         M\n",
      "112      VanHeusenSport    Cotton    39         S\n",
      "119             Nautica    Cotton    39         S\n",
      "125                IVOC    Cotton    39         S\n",
      "140          AllenSolly    Cotton    39         S\n"
     ]
    }
   ],
   "source": [
    "opciones3=dataframeFinal.loc[dataframeFinal['Size']==39]\n",
    "print(opciones3)"
   ]
  },
  {
   "cell_type": "code",
   "execution_count": 62,
   "metadata": {},
   "outputs": [
    {
     "name": "stdout",
     "output_type": "stream",
     "text": [
      "                 BrandName      Type  Size BrandSize\n",
      "1                 Roadster    Cotton    40         M\n",
      "7                    WROGN    Cotton    40         M\n",
      "12                   WROGN  Polyster    40         M\n",
      "17             DennisLingo    Cotton    40         M\n",
      "22              Highlander    Cotton    40         M\n",
      "27             CampusSutra    Cotton    40         M\n",
      "31         TheIndianGarage    Cotton    40         M\n",
      "37                INVICTUS    Cotton    40         L\n",
      "41            TheBearHouse    Cotton    40         M\n",
      "46   UnitedColorsofBenetto    Cotton    40         M\n",
      "52                  USPOLO    Cotton    40         M\n",
      "58              LOCOMOTIVE    Cotton    40         M\n",
      "62                HERE&NOW    Cotton    40         M\n",
      "67            Mast&Harbour    Cotton    40         M\n",
      "72            PeterEngland    Cotton    40         M\n",
      "79              ArrowSport    Cotton    40         L\n",
      "85                WildWest    Cotton    40         M\n",
      "92      VanHeusenDenimLabs    Cotton    40         M\n",
      "98               BeneKleed    Cotton    40         L\n",
      "102                    R&B    Cotton    40         M\n",
      "108                 JANISH    Cotton    40         M\n",
      "113         VanHeusenSport    Cotton    40         M\n",
      "116                  Ether    Cotton    40         M\n",
      "120                Nautica    Cotton    40         M\n",
      "126                   IVOC    Cotton    40         M\n",
      "130                  VMart    Cotton    40         M\n",
      "136                Harvard    Cotton    40         M\n",
      "141             AllenSolly    Cotton    40         M\n"
     ]
    }
   ],
   "source": [
    "opciones4=dataframeFinal.loc[dataframeFinal['Size']==40]\n",
    "print(opciones4)"
   ]
  },
  {
   "cell_type": "code",
   "execution_count": 63,
   "metadata": {},
   "outputs": [
    {
     "name": "stdout",
     "output_type": "stream",
     "text": [
      "                 BrandName      Type  Size BrandSize\n",
      "2                 Roadster    Cotton    42         L\n",
      "8                    WROGN    Cotton    42         L\n",
      "13                   WROGN  Polyster    42         L\n",
      "18             DennisLingo    Cotton    42         L\n",
      "23              Highlander    Cotton    42         L\n",
      "28             CampusSutra    Cotton    42         L\n",
      "32         TheIndianGarage    Cotton    42         L\n",
      "38                INVICTUS    Cotton    42        XL\n",
      "42            TheBearHouse    Cotton    42         L\n",
      "47   UnitedColorsofBenetto    Cotton    42         L\n",
      "53                  USPOLO    Cotton    42         L\n",
      "59              LOCOMOTIVE    Cotton    42         L\n",
      "63                HERE&NOW    Cotton    42         L\n",
      "68            Mast&Harbour    Cotton    42         L\n",
      "73            PeterEngland    Cotton    42         L\n",
      "80              ArrowSport    Cotton    42        XL\n",
      "86                WildWest    Cotton    42         L\n",
      "93      VanHeusenDenimLabs    Cotton    42         L\n",
      "99               BeneKleed    Cotton    42        XL\n",
      "103                    R&B    Cotton    42         L\n",
      "109                 JANISH    Cotton    42         L\n",
      "114         VanHeusenSport    Cotton    42         L\n",
      "117                  Ether    Cotton    42         L\n",
      "121                Nautica    Cotton    42         L\n",
      "127                   IVOC    Cotton    42         L\n",
      "131                  VMart    Cotton    42         L\n",
      "137                Harvard    Cotton    42         L\n",
      "142             AllenSolly    Cotton    42         L\n"
     ]
    }
   ],
   "source": [
    "opciones5=dataframeFinal.loc[dataframeFinal['Size']==42]\n",
    "print(opciones5)"
   ]
  },
  {
   "cell_type": "code",
   "execution_count": 64,
   "metadata": {},
   "outputs": [
    {
     "name": "stdout",
     "output_type": "stream",
     "text": [
      "                 BrandName      Type  Size BrandSize\n",
      "3                 Roadster    Cotton    44        XL\n",
      "9                    WROGN    Cotton    44        XL\n",
      "14                   WROGN  Polyster    44        XL\n",
      "19             DennisLingo    Cotton    44        XL\n",
      "24              Highlander    Cotton    44        XL\n",
      "29             CampusSutra    Cotton    44        XL\n",
      "33         TheIndianGarage    Cotton    44        XL\n",
      "39                INVICTUS    Cotton    44       XXL\n",
      "43            TheBearHouse    Cotton    44        XL\n",
      "48   UnitedColorsofBenetto    Cotton    44        XL\n",
      "54                  USPOLO    Cotton    44        XL\n",
      "60              LOCOMOTIVE    Cotton    44        XL\n",
      "64                HERE&NOW    Cotton    44        XL\n",
      "69            Mast&Harbour    Cotton    44        XL\n",
      "74            PeterEngland    Cotton    44        XL\n",
      "81              ArrowSport    Cotton    44       XXL\n",
      "87                WildWest    Cotton    44        XL\n",
      "94      VanHeusenDenimLabs    Cotton    44        XL\n",
      "100              BeneKleed    Cotton    44       XXL\n",
      "104                    R&B    Cotton    44        XL\n",
      "110                 JANISH    Cotton    44        XL\n",
      "118                  Ether    Cotton    44        XL\n",
      "122                Nautica    Cotton    44        XL\n",
      "128                   IVOC    Cotton    44        XL\n",
      "132                  VMart    Cotton    44        XL\n",
      "138                Harvard    Cotton    44        XL\n",
      "143             AllenSolly    Cotton    44        XL\n"
     ]
    }
   ],
   "source": [
    "opciones6=dataframeFinal.loc[dataframeFinal['Size']==44]\n",
    "print(opciones6)"
   ]
  },
  {
   "cell_type": "code",
   "execution_count": 49,
   "metadata": {},
   "outputs": [
    {
     "name": "stdout",
     "output_type": "stream",
     "text": [
      "                 BrandName      Type  Size BrandSize  Chest(cm)  \\\n",
      "4                 Roadster    Cotton    46       XXL        130   \n",
      "10                   WROGN    Cotton    46       XXL        130   \n",
      "15                   WROGN  Polyster    46       XXL        128   \n",
      "20             DennisLingo    Cotton    46       XXL        119   \n",
      "25              Highlander    Cotton    46       XXL        122   \n",
      "34         TheIndianGarage    Cotton    46       XXL        119   \n",
      "44            TheBearHouse    Cotton    46       XXL        117   \n",
      "49   UnitedColorsofBenetto    Cotton    46        EL        125   \n",
      "55                  USPOLO    Cotton    46       XXL        128   \n",
      "65                HERE&NOW    Cotton    46       XXL        133   \n",
      "75            PeterEngland    Cotton    46       XXL        130   \n",
      "82              ArrowSport    Cotton    46       TXL        130   \n",
      "88                WildWest    Cotton    46       XXL        119   \n",
      "95      VanHeusenDenimLabs    Cotton    46       XXL        129   \n",
      "105                    R&B    Cotton    46       XXL        122   \n",
      "123                Nautica    Cotton    46       XXL        135   \n",
      "133                  VMart    Cotton    46       XXL        125   \n",
      "144             AllenSolly    Cotton    46       XXL        130   \n",
      "\n",
      "     FrontLength(cm)  AcrossShoulder(cm)  \n",
      "4                 82                  51  \n",
      "10                79                  49  \n",
      "15                79                  50  \n",
      "20                78                  48  \n",
      "25                78                  52  \n",
      "34                80                  50  \n",
      "44                79                  50  \n",
      "49                81                  50  \n",
      "55                80                  54  \n",
      "65                79                  53  \n",
      "75                79                  48  \n",
      "82                81                  52  \n",
      "88                74                  49  \n",
      "95                80                  55  \n",
      "105               79                  48  \n",
      "123               80                  54  \n",
      "133               78                  51  \n",
      "144               79                  53  \n"
     ]
    }
   ],
   "source": [
    "opciones7=dataframeFinal.loc[dataframeFinal['Size']==46]\n",
    "print(opciones7)"
   ]
  },
  {
   "cell_type": "code",
   "execution_count": 65,
   "metadata": {},
   "outputs": [
    {
     "name": "stdout",
     "output_type": "stream",
     "text": [
      "                 BrandName    Type  Size BrandSize\n",
      "5                 Roadster  Cotton    48       3XL\n",
      "50   UnitedColorsofBenetto  Cotton    48        KL\n",
      "56                  USPOLO  Cotton    48       TXL\n",
      "76            PeterEngland  Cotton    48       TXL\n",
      "83              ArrowSport  Cotton    48       FXL\n",
      "89                WildWest  Cotton    48       TXL\n",
      "134                  VMart  Cotton    48       TXL\n",
      "145             AllenSolly  Cotton    48       TXL\n"
     ]
    }
   ],
   "source": [
    "opciones8=dataframeFinal.loc[dataframeFinal['Size']==48]\n",
    "print(opciones8)"
   ]
  }
 ],
 "metadata": {
  "kernelspec": {
   "display_name": "Python 3.10.8 64-bit (microsoft store)",
   "language": "python",
   "name": "python3"
  },
  "language_info": {
   "codemirror_mode": {
    "name": "ipython",
    "version": 3
   },
   "file_extension": ".py",
   "mimetype": "text/x-python",
   "name": "python",
   "nbconvert_exporter": "python",
   "pygments_lexer": "ipython3",
   "version": "3.10.8"
  },
  "orig_nbformat": 4,
  "vscode": {
   "interpreter": {
    "hash": "66f804da07f0f556d77bc3269dc5bb19edf020422864031af2885e5ff55f9079"
   }
  }
 },
 "nbformat": 4,
 "nbformat_minor": 2
}
